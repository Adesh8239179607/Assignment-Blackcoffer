{
 "cells": [
  {
   "cell_type": "code",
   "execution_count": 1,
   "metadata": {
    "colab": {
     "base_uri": "https://localhost:8080/"
    },
    "executionInfo": {
     "elapsed": 1256,
     "status": "ok",
     "timestamp": 1750307753129,
     "user": {
      "displayName": "Adesh Mishra",
      "userId": "17077495713070140326"
     },
     "user_tz": -330
    },
    "id": "9a4g1qukQoWJ",
    "outputId": "c6532246-e29f-4d25-f2ce-3190d9561785"
   },
   "outputs": [
    {
     "name": "stdout",
     "output_type": "stream",
     "text": [
      " 10.pdf\n",
      "'220104004Adesh Mishra (1).pdf'\n",
      "'220104004AdeshMishra (1).pdf'\n",
      "'220104004_ADESH MISHRA (1).pdf'\n",
      "'220104004Adesh Mishra (2).pdf'\n",
      "'220104004AdeshMishra (2).pdf'\n",
      "'220104004_ADESH MISHRA (2).pdf'\n",
      "'220104004AdeshMishra (3).pdf'\n",
      "'220104004_ADESH MISHRA (3).pdf'\n",
      "'220104004AdeshMishra (4).pdf'\n",
      "'220104004_ADESH MISHRA (4).pdf'\n",
      "'220104004AdeshMishra (5).pdf'\n",
      "'220104004_ADESH MISHRA (5).pdf'\n",
      "'220104004AdeshMishra (6).pdf'\n",
      "'220104004_ADESH MISHRA (6).pdf'\n",
      "'220104004AdeshMishra (7).pdf'\n",
      "'220104004_ADESH MISHRA (7).pdf'\n",
      "'220104004AdeshMishra (8).pdf'\n",
      "'220104004_ADESH MISHRA (8).pdf'\n",
      "'220104004Adesh Mishra.pdf'\n",
      " 220104004AdeshMishra.pdf\n",
      "'220104004_ADESH MISHRA.pdf'\n",
      " 220104004AdeshMishraProduct.pdf\n",
      " 220104004Adesh.pdf\n",
      " 220104004AdeshProduct.pdf\n",
      "'220104004MAdeshMishra (10).pdf'\n",
      "'220104004MAdeshMishra (11).pdf'\n",
      "'220104004MAdeshMishra (12).pdf'\n",
      "'220104004MAdeshMishra (13).pdf'\n",
      "'220104004MAdeshMishra (14).pdf'\n",
      "'220104004MAdeshMishra (15).pdf'\n",
      "'220104004MAdeshMishra (16).pdf'\n",
      "'220104004MAdeshMishra (17).pdf'\n",
      "'220104004MAdeshMishra (18).pdf'\n",
      "'220104004MAdeshMishra (19).pdf'\n",
      "'220104004_MAdeshMishra (1).pdf'\n",
      "'220104004MAdeshMishra (1).pdf'\n",
      "'220104004MAdeshMishra (20).pdf'\n",
      "'220104004_MAdeshMishra (2).pdf'\n",
      "'220104004MAdeshMishra (2).pdf'\n",
      "'220104004_MAdeshMishra (3).pdf'\n",
      "'220104004MAdeshMishra (3).pdf'\n",
      "'220104004_MAdeshMishra (4).pdf'\n",
      "'220104004MAdeshMishra (4).pdf'\n",
      "'220104004_MAdeshMishra (5).pdf'\n",
      "'220104004MAdeshMishra (5).pdf'\n",
      "'220104004_MAdeshMishra (6).pdf'\n",
      "'220104004MAdeshMishra (6).pdf'\n",
      "'220104004_MAdeshMishra (7).pdf'\n",
      "'220104004MAdeshMishra (7).pdf'\n",
      "'220104004_MAdeshMishra (8).pdf'\n",
      "'220104004MAdeshMishra (8).pdf'\n",
      "'220104004_MAdeshMishra (9).pdf'\n",
      "'220104004MAdeshMishra (9).pdf'\n",
      " 220104004_MAdeshMishra.pdf\n",
      " 220104004MAdeshMishra.pdf\n",
      " 220182641-18559d364ee646208bd614acf80708ac.pdf\n",
      " 7677012527.pdf\n",
      "'adesh 12.pdf'\n",
      "'Adesh documen '\n",
      " AdeshM220104004.pdf\n",
      "'Adeshmishra220104004 (1).jpg'\n",
      "'Adeshmishra220104004 (2).jpg'\n",
      " Adeshmishra220104004.jpg\n",
      " Adeshmishra_220104004.pdf\n",
      " ADESH.pptx\n",
      "'Adesmishra_220104004 (10).pdf'\n",
      "'Adesmishra_220104004 (11).pdf'\n",
      "'Adesmishra_220104004 (12).pdf'\n",
      "'Adesmishra_220104004 (13).pdf'\n",
      "'Adesmishra_220104004 (14).pdf'\n",
      "'Adesmishra_220104004 (15).pdf'\n",
      "'Adesmishra_220104004 (16).pdf'\n",
      "'Adesmishra_220104004 (1).pdf'\n",
      "'Adesmishra_220104004 (2).pdf'\n",
      "'Adesmishra_220104004 (3).pdf'\n",
      "'Adesmishra_220104004 (4).pdf'\n",
      "'Adesmishra_220104004 (5).pdf'\n",
      "'Adesmishra_220104004 (6).pdf'\n",
      "'Adesmishra_220104004 (7).pdf'\n",
      "'Adesmishra_220104004 (8).pdf'\n",
      "'Adesmishra_220104004 (9).pdf'\n",
      " Adesmishra_220104004.pdf\n",
      " Ai-image-classifier-main.zip\n",
      " Assignment\n",
      "'Badminton Club (Responses).gsheet'\n",
      "'Colab Notebooks'\n",
      " CV\n",
      " cv.pdf\n",
      "'document_intern[1] (1).pptx'\n",
      "'document_intern[1] (2).pptx'\n",
      "'document intern (1).pptx'\n",
      "'document_intern[1].pptx'\n",
      "'document intern.pptx'\n",
      "'Dog Vision'\n",
      "'Event Registration (1).gform'\n",
      "'Event Registration (File responses)'\n",
      "'Event Registration (File responses) (1)'\n",
      "'Event Registration.gform'\n",
      " GDFiles\n",
      " GDToT\n",
      "'IIT_Guwahati_Résumé (8).pdf'\n",
      " IMG_0766.jpeg\n",
      " IMG-20240311-WA0054.jpg\n",
      " IMG_20240423_141633_950.jpg\n",
      " IMG_20240527_230807.jpg\n",
      " IMG_3072.mov\n",
      " IMG_5273.png\n",
      "'intern doc'\n",
      " itemInvoiceDownload.pdf\n",
      "\"Let's Proceed with random.pdf\"\n",
      "'Mumma doc'\n",
      "'New Doc 06-07-2023 12.04-pages-2.pdf'\n",
      "'New Piratedrive'\n",
      " Resume.gdoc\n",
      "'Saved from Chrome'\n",
      "'Screenshot_2022-09-26-10-32-31-313_com (1).flipkart.android.jpg'\n",
      " Screenshot_2022-09-26-10-32-31-313_com.flipkart.android.jpg\n",
      " Screenshot_2023-03-30-22-58-36-371_net.one97.paytm.jpg\n",
      " Screenshot_2023-11-21-12-40-34-013_com.miui.gallery.jpg\n",
      " Screenshot_2024-02-17-23-52-43-520_net.one97.paytm.jpg\n",
      " Screenshot_2024-02-29-17-08-10-488_net.one97.paytm.jpg\n",
      "'Spardha 2025.gdoc'\n",
      "'Swiggy Product Teardown- Team Product Pulse.pdf'\n",
      "'The deck.pdf.pdf'\n",
      "'Untitled document (1).gdoc'\n",
      "'Untitled document (2).gdoc'\n",
      "'Untitled document (3).gdoc'\n",
      "'Untitled document (4).gdoc'\n",
      "'Untitled document (5).gdoc'\n",
      "'Untitled document (6).gdoc'\n",
      "'Untitled document (7).gdoc'\n",
      "'Untitled document.gdoc'\n",
      "'Untitled spreadsheet (1).gsheet'\n",
      "'Untitled spreadsheet.gsheet'\n",
      "'venturimeter 220104004, 220104005.zip'\n",
      "'ViewSysGeneratedDoc (1) (3) (1).pdf'\n",
      "'ViewSysGeneratedDoc (1) (3).pdf'\n",
      "'WhatsApp Image 2023-03-12 at 09.36.26.jpg'\n"
     ]
    }
   ],
   "source": [
    "!ls \"/content/drive/MyDrive\"\n"
   ]
  },
  {
   "cell_type": "code",
   "execution_count": 2,
   "metadata": {
    "colab": {
     "base_uri": "https://localhost:8080/"
    },
    "executionInfo": {
     "elapsed": 18250,
     "status": "ok",
     "timestamp": 1750307771378,
     "user": {
      "displayName": "Adesh Mishra",
      "userId": "17077495713070140326"
     },
     "user_tz": -330
    },
    "id": "ekcOO1r1SC24",
    "outputId": "d17b56e6-e647-4cde-e86d-0a8f45b74e22"
   },
   "outputs": [
    {
     "name": "stdout",
     "output_type": "stream",
     "text": [
      "Drive already mounted at /content/drive; to attempt to forcibly remount, call drive.mount(\"/content/drive\", force_remount=True).\n",
      "Listing contents of '/content/drive/MyDrive/Assignment':\n",
      " Input.xlsx\n",
      " MasterDictionary\n",
      " MasterDictionary-20250618T042156Z-1-001.zip\n",
      " Objective.docx\n",
      "'Output Data Structure.xlsx'\n",
      " StopWords\n",
      " StopWords-20250618T042155Z-1-001.zip\n",
      "'Text Analysis.docx'\n",
      "\n",
      "Current working directory changed to: /content/drive/MyDrive/Assignment\n"
     ]
    }
   ],
   "source": [
    "from google.colab import drive\n",
    "import os\n",
    "\n",
    "# 1. Mount your Google Drive\n",
    "drive.mount('/content/drive')\n",
    "\n",
    "# 2. Navigate to the \"assignment\" folder and list its contents\n",
    "assignment_folder_path = \"/content/drive/MyDrive/Assignment\" # Replace 'assignment' with the actual name if different\n",
    "print(f\"Listing contents of '{assignment_folder_path}':\") # Corrected variable name\n",
    "!ls \"{assignment_folder_path}\" # Corrected variable name\n",
    "\n",
    "# 3. Change the current working directory to the \"assignment\" folder\n",
    "try:\n",
    "    os.chdir(assignment_folder_path) # Corrected variable name\n",
    "    print(f\"\\nCurrent working directory changed to: {os.getcwd()}\")\n",
    "except FileNotFoundError:\n",
    "    print(f\"\\nError: The folder '{assignment_folder_path}' was not found.\") # Corrected variable name\n",
    "    print(\"Please ensure the folder name and path are correct.\")\n",
    "\n",
    "\n",
    "# Now, any operations you perform (e.g., creating files) will be within the 'assignment' folder.\n",
    "# Example: Create a new file in the 'assignment' folder\n",
    "# !echo \"This is a new file in the assignment folder\" > new_assignment_file.txt"
   ]
  },
  {
   "cell_type": "code",
   "execution_count": 3,
   "metadata": {
    "colab": {
     "base_uri": "https://localhost:8080/"
    },
    "executionInfo": {
     "elapsed": 56,
     "status": "ok",
     "timestamp": 1750307771438,
     "user": {
      "displayName": "Adesh Mishra",
      "userId": "17077495713070140326"
     },
     "user_tz": -330
    },
    "id": "lBwF6C4pSxLT",
    "outputId": "be25bd27-0bb9-47c0-be03-49527da8d60d"
   },
   "outputs": [
    {
     "name": "stdout",
     "output_type": "stream",
     "text": [
      "\n",
      "Current working directory changed to: /content/drive/MyDrive/Assignment\n"
     ]
    }
   ],
   "source": [
    "import os\n",
    "\n",
    "# ... (mounting drive and changing directory)\n",
    "\n",
    "print(f\"\\nCurrent working directory changed to: {os.getcwd()}\")"
   ]
  },
  {
   "cell_type": "code",
   "execution_count": 4,
   "metadata": {
    "colab": {
     "base_uri": "https://localhost:8080/"
    },
    "executionInfo": {
     "elapsed": 11910,
     "status": "ok",
     "timestamp": 1750307783347,
     "user": {
      "displayName": "Adesh Mishra",
      "userId": "17077495713070140326"
     },
     "user_tz": -330
    },
    "id": "3t7tt51jWTM0",
    "outputId": "8fc55379-de9b-4479-d484-f5aec6d39bb7"
   },
   "outputs": [
    {
     "name": "stdout",
     "output_type": "stream",
     "text": [
      "Collecting fake_useragent\n",
      "  Downloading fake_useragent-2.2.0-py3-none-any.whl.metadata (17 kB)\n",
      "Downloading fake_useragent-2.2.0-py3-none-any.whl (161 kB)\n",
      "\u001b[2K   \u001b[90m━━━━━━━━━━━━━━━━━━━━━━━━━━━━━━━━━━━━━━━━\u001b[0m \u001b[32m161.7/161.7 kB\u001b[0m \u001b[31m3.6 MB/s\u001b[0m eta \u001b[36m0:00:00\u001b[0m\n",
      "\u001b[?25hInstalling collected packages: fake_useragent\n",
      "Successfully installed fake_useragent-2.2.0\n"
     ]
    }
   ],
   "source": [
    "!pip install fake_useragent\n",
    "import numpy as np\n",
    "import re\n",
    "import os\n",
    "import pandas as pd\n",
    "from nltk.tokenize import RegexpTokenizer , sent_tokenize\n",
    "from urllib.request import urlopen\n",
    "from bs4 import BeautifulSoup\n",
    "from fake_useragent import UserAgent\n",
    "import requests\n",
    "import urllib.request,sys,time ,requests"
   ]
  },
  {
   "cell_type": "code",
   "execution_count": 5,
   "metadata": {
    "executionInfo": {
     "elapsed": 2,
     "status": "ok",
     "timestamp": 1750307783352,
     "user": {
      "displayName": "Adesh Mishra",
      "userId": "17077495713070140326"
     },
     "user_tz": -330
    },
    "id": "YDplrZAOf_Le"
   },
   "outputs": [],
   "source": [
    "#!unzip /content/drive/MyDrive/Assignment/MasterDictionary-20250618T042156Z-1-001.zip -d /content/drive/MyDrive/Assignment"
   ]
  },
  {
   "cell_type": "code",
   "execution_count": 6,
   "metadata": {
    "executionInfo": {
     "elapsed": 1,
     "status": "ok",
     "timestamp": 1750307783354,
     "user": {
      "displayName": "Adesh Mishra",
      "userId": "17077495713070140326"
     },
     "user_tz": -330
    },
    "id": "AEiqHf9Ji7Wf"
   },
   "outputs": [],
   "source": [
    "#!unzip /content/drive/MyDrive/Assignment/MasterDictionary-20250618T042156Z-1-001.zip -d /content/drive/MyDrive/Assignment"
   ]
  },
  {
   "cell_type": "code",
   "execution_count": 7,
   "metadata": {
    "colab": {
     "base_uri": "https://localhost:8080/"
    },
    "executionInfo": {
     "elapsed": 88,
     "status": "ok",
     "timestamp": 1750307783466,
     "user": {
      "displayName": "Adesh Mishra",
      "userId": "17077495713070140326"
     },
     "user_tz": -330
    },
    "id": "0M50nkRPjSdm",
    "outputId": "054ef056-1e2b-425f-b35d-e042e0ea33a7"
   },
   "outputs": [
    {
     "name": "stdout",
     "output_type": "stream",
     "text": [
      " Input.xlsx\n",
      " MasterDictionary\n",
      " MasterDictionary-20250618T042156Z-1-001.zip\n",
      " Objective.docx\n",
      "'Output Data Structure.xlsx'\n",
      " StopWords\n",
      " StopWords-20250618T042155Z-1-001.zip\n",
      "'Text Analysis.docx'\n"
     ]
    }
   ],
   "source": [
    "!ls \"/content/drive/MyDrive/Assignment\""
   ]
  },
  {
   "cell_type": "code",
   "execution_count": 8,
   "metadata": {
    "colab": {
     "base_uri": "https://localhost:8080/"
    },
    "executionInfo": {
     "elapsed": 144,
     "status": "ok",
     "timestamp": 1750307783624,
     "user": {
      "displayName": "Adesh Mishra",
      "userId": "17077495713070140326"
     },
     "user_tz": -330
    },
    "id": "iU6wXPEskcLe",
    "outputId": "b225b9ec-21a4-4220-aeca-ce58d7a39e52"
   },
   "outputs": [
    {
     "name": "stdout",
     "output_type": "stream",
     "text": [
      "negative-words.txt  positive-words.txt\n"
     ]
    }
   ],
   "source": [
    "!ls \"/content/drive/MyDrive/Assignment/MasterDictionary\""
   ]
  },
  {
   "cell_type": "code",
   "execution_count": 9,
   "metadata": {
    "executionInfo": {
     "elapsed": 4,
     "status": "ok",
     "timestamp": 1750307783625,
     "user": {
      "displayName": "Adesh Mishra",
      "userId": "17077495713070140326"
     },
     "user_tz": -330
    },
    "id": "LvPc9_mcky_m"
   },
   "outputs": [],
   "source": [
    "#!unzip /content/drive/MyDrive/Assignment/StopWords-20250618T042155Z-1-001.zip -d /content/drive/MyDrive/Assignment"
   ]
  },
  {
   "cell_type": "code",
   "execution_count": 10,
   "metadata": {
    "executionInfo": {
     "elapsed": 32,
     "status": "ok",
     "timestamp": 1750307783655,
     "user": {
      "displayName": "Adesh Mishra",
      "userId": "17077495713070140326"
     },
     "user_tz": -330
    },
    "id": "_Vrs67sKlh4v"
   },
   "outputs": [],
   "source": [
    "stopWordsFile =     '/content/drive/MyDrive/Assignment/StopWords/StopWords_Generic.txt'\n",
    "positiveWordsFile = '/content/drive/MyDrive/Assignment/MasterDictionary/positive-words.txt'\n",
    "nagitiveWordsFile = '/content/drive/MyDrive/Assignment/MasterDictionary/negative-words.txt'"
   ]
  },
  {
   "cell_type": "code",
   "execution_count": 11,
   "metadata": {
    "colab": {
     "base_uri": "https://localhost:8080/"
    },
    "executionInfo": {
     "elapsed": 1707,
     "status": "ok",
     "timestamp": 1750307785363,
     "user": {
      "displayName": "Adesh Mishra",
      "userId": "17077495713070140326"
     },
     "user_tz": -330
    },
    "id": "i0P4itPzl0le",
    "outputId": "f89e9b3a-aab6-4a52-ce52-86d2136a94b4"
   },
   "outputs": [
    {
     "data": {
      "text/plain": [
       "['ai and ml based youtube analytics and content creation tool for optimizing subscriber engagement and content strategy',\n",
       " 'enhancing front end features and functionality for improved user experience and dashboard accuracy in partner hospital application',\n",
       " 'roas dashboard for campaign wise google ads budget tracking using google ads ap',\n",
       " 'efficient processing and analysis of financial data from pdf files addressing formatting inconsistencies and ensuring data integrity for a toyota dealership management firm',\n",
       " 'development of ea robot for automated trading',\n",
       " 'ai and ml based youtube analytics and content creation tool for optimizing subscriber engagement and content strategy',\n",
       " 'enhancing front end features and functionality for improved user experience and dashboard accuracy in partner hospital application',\n",
       " 'roas dashboard for campaign wise google ads budget tracking using google ads ap',\n",
       " 'efficient processing and analysis of financial data from pdf files addressing formatting inconsistencies and ensuring data integrity for a toyota dealership management firm',\n",
       " 'transforming and managing a large scale sql pedigree database to neo4j graph db',\n",
       " 'enhancing model accuracy from 58 to over 90 strategies for improving predictive performance',\n",
       " 'securing sensitive financial data with privacy preserving machine learning for predictive analytics',\n",
       " 'enhancing data collection for research institutions addressing survey fatigue and incorporating verbal communication for richer insights',\n",
       " 'analyzing the impact of positive emotions and pandemic severity on mental health and resilience among entrepreneurs insights and predictive modeling',\n",
       " 'dynamic brand centric dashboard for automotive dealerships pdf to financial insights with flask react architecture and aws cloud hosting',\n",
       " 'cloud based data modeling and analysis platform with drag and drop interface and openai api integration for simulation insights',\n",
       " 'voter profile analysis and search application for targeted campaign engagement using government voter data',\n",
       " 'bert based classification of individuals and organizations into two categories using natural language processing',\n",
       " 'comprehensive analysis of solana and ethereum contributors using github api with comparative study of 1000 random github profiles',\n",
       " 'powerbi rest api fetching dataflow and refresh schedules with semantic models',\n",
       " 'automated job data import and management solution for enhanced efficiency',\n",
       " 'data analytics and optimization solution for enhancing renewable energy efficiency',\n",
       " 'time series analysis and trend forecasting solution for predicting news trends',\n",
       " 'advanced data visualization solutions for monitoring key business metrics with integrated interactive dashboards',\n",
       " 'advanced patient data analysis solution for trend identification and improved healthcare outcome',\n",
       " 'anomaly detection and analysis for enhanced data integrity and user experience on bright datas website',\n",
       " 'building custom tflite models and benchmarking on voxl2 chips',\n",
       " 'sports prediction model for multiple sports leagues',\n",
       " 'efficient coach allocation system for sports coaching organization',\n",
       " 'data studio dashboard with a data pipeline tool synced with podio using custom webhooks and google cloud function 2',\n",
       " 'ai driven backend for audio to text conversion and analytical assessment in pharmaceutical practice',\n",
       " 'cloud based web application for financial data processing and visualization of sp 500 metrics',\n",
       " 'department wise kpi tracking dashboard with technician performance analysis for atoz dependable service',\n",
       " 'steps to convert a node js api to python for aws lambda deployment',\n",
       " 'building an analytics dashboard with a pdf parsing pipeline for data extraction',\n",
       " 'building a real time log file visualization dashboard in kibana',\n",
       " 'analyzing the impact of female ceo appointments on company stock prices',\n",
       " 'ai chatbot using llm langchain llama',\n",
       " 'healthcare ai chatbot using llama llm langchain',\n",
       " 'ai bot audio to audio',\n",
       " 'recommendation engine for insurance sector to expand business in the rural area',\n",
       " 'data from crm via zapier to google sheets dynamic to powerbi',\n",
       " 'data warehouse to google data studio looker dashboard',\n",
       " 'crm monday com via zapier to power bi dashboard',\n",
       " 'monday com to kpi dashboard to manage view and generate insights from the crm data',\n",
       " 'data management for a political saas application',\n",
       " 'google lsa ads google local service ads etl tools and dashboards',\n",
       " 'ad networks marketing campaign data dashboard in looker google data studio',\n",
       " 'analytical solution for a tech firm',\n",
       " 'ai solution for a technology information and internet firm',\n",
       " 'ai and nlp based solutions to automate data discovery for venture capital and private equity principals',\n",
       " 'an etl solution for an internet publishing firm',\n",
       " 'ai based algorithmic trading bot for forex',\n",
       " 'equity waterfalls model based saas application for real estate sector',\n",
       " 'ai solutions for foreign exchange an automated algo trading tool',\n",
       " 'ai agent development and deployment in jina ai',\n",
       " 'golden record a knowledge graph database approach to unfold discovery using neo4j',\n",
       " 'advanced ai for trading automation',\n",
       " 'create a knowledge graph to provide real time analytics recommendations and a single source of truth',\n",
       " 'advanced ai for thermal person detection',\n",
       " 'advanced ai for road cam threat detection',\n",
       " 'advanced ai for pedestrian crossing safety',\n",
       " 'handgun detection using yolo',\n",
       " 'using graph technology to create single customer view',\n",
       " 'car detection in satellite images',\n",
       " 'building a physics informed neural network for circuit evaluation',\n",
       " 'connecting mongodb database to power bi dashboard dashboard automation',\n",
       " 'data transformation',\n",
       " 'e commerce store analysis purchase behavior ad spend conversion traffic etc',\n",
       " 'kpi dashboard for accountants',\n",
       " 'return on advertising spend dashboard marketing automation and analytics using etl and dashboard',\n",
       " 'ranking customer behaviours for business strategy',\n",
       " 'algorithmic trading for multiple commodities markets like forex metals energy etc',\n",
       " 'trading bot for forex',\n",
       " 'python model for the analysis of sector specific stock etfs for investment purposes%ef%bf%bc',\n",
       " 'medical classification',\n",
       " 'design develop bert question answering model explanations with visualization',\n",
       " 'design and develop solution to anomaly detection classification problems',\n",
       " 'an etl solution for currency data to google big query',\n",
       " 'etl and mlops infrastructure for blockchain analytics',\n",
       " 'an agent based model of a virtual power plant vpp',\n",
       " 'transform api into sdk library and widget',\n",
       " 'integration of a product to a cloud based crm platform',\n",
       " 'a web based dashboard for the filtered data retrieval of land records',\n",
       " 'integration of video conferencing data to the existing web app',\n",
       " 'design develop an app in retool which shows the progress of the added video',\n",
       " 'auvik connectwise integration in grafana',\n",
       " 'data integration and big data performance using elk stack',\n",
       " 'web data connector',\n",
       " 'an app for updating the email id of the user and stripe refund tool using retool',\n",
       " 'an ai ml based web application that detects the correctness of text in a given video',\n",
       " 'website tracking and insights using google analytics google tag manager',\n",
       " 'dashboard to track the analytics of the website using google analytics and google tag manager',\n",
       " 'power bi dashboard on operations transactions and marketing embedding the dashboard to web app',\n",
       " 'nft data automation looksrare and etl tool',\n",
       " 'optimize the data scraper program to easily accommodate large files and solve oom errors',\n",
       " 'making a robust way to sync data from airtables to mongodb using python etl solution',\n",
       " 'incident duration prediction infrastructure and real estate',\n",
       " 'statistical data analysis of reinforced concrete',\n",
       " 'database normalization segmentation with google data studio dashboard insights',\n",
       " 'power bi dashboard to drive insights from complex data to generate business insights',\n",
       " 'real time dashboard to monitor infrastructure activity and machines',\n",
       " 'electric vehicles ev load management system to forecast energy demand',\n",
       " 'power bi data driven map dashboard',\n",
       " 'google local service ads lsa leads dashboard',\n",
       " 'aws lex voice and chatbot',\n",
       " 'metabridges api decentraland integration',\n",
       " 'microsoft azure chatbot with luis language understanding',\n",
       " 'impact of news media and press on innovation startups and investments',\n",
       " 'aws quicksight reporting dashboard',\n",
       " 'google data studio dashboard for marketing ads and traction data',\n",
       " 'gangala in e commerce big data etl elt solution and data warehouse',\n",
       " 'big data solution to an online multivendor marketplace ecommerce business',\n",
       " 'creating a custom report and dashboard using the data got from atera api',\n",
       " 'azure data lake and power bi dashboard',\n",
       " 'google data studio pipeline with gcp mysql',\n",
       " 'quickbooks dashboard to find patterns in finance sales and forecasts',\n",
       " 'marketing sales and financial data business dashboard wink report',\n",
       " 'react native apps in the development portfolio',\n",
       " 'a leading firm website seo optimization',\n",
       " 'a leading hospitality firm in the usa website seo optimization',\n",
       " 'a leading firm in the usa website seo optimization',\n",
       " 'a leading musical instrumental website seo optimization',\n",
       " 'a leading firm in the usa seo and website optimization',\n",
       " 'immigration datawarehouse ai based recommendations',\n",
       " 'lipsync automation for celebrities and influencers',\n",
       " 'key audit matters predictive modeling',\n",
       " 'splitting of songs into its vocals and instrumental',\n",
       " 'ai and ml technologies to evaluate learning assessments',\n",
       " 'datawarehouse and recommendations engine for airbnb',\n",
       " 'real estate data warehouse',\n",
       " 'traction dashboards of marketing campaigns and posts',\n",
       " 'google local service ads lsa data warehouse',\n",
       " 'google local service ads missed calls and messages automation tool',\n",
       " 'marketing ads leads call status data tool to bigquery',\n",
       " 'marketing analytics to automate leads call status and reporting',\n",
       " 'callrail analytics leads report alert',\n",
       " 'marketing automation tool to notify lead details to clients over email and phone',\n",
       " 'data etl local service ads leads to bigquery',\n",
       " 'marbles stimulation using python',\n",
       " 'stocktwits data structurization',\n",
       " 'sentimental analysis on shareholder letter of companies',\n",
       " 'population and community survey of america',\n",
       " 'google lsa api data automation and dashboarding',\n",
       " 'healthcare data analysis',\n",
       " 'budget sales kpi dashboard using power bi',\n",
       " 'amazon buy bot an automation ai tool to auto checkouts']"
      ]
     },
     "execution_count": 11,
     "metadata": {},
     "output_type": "execute_result"
    }
   ],
   "source": [
    "input = pd.read_excel(\"/content/drive/MyDrive/Assignment/Input.xlsx\")\n",
    "input\n",
    "\n",
    "def get_article_names(urls):\n",
    "  titles = []\n",
    "  for i in range (len(urls)):\n",
    "    title = urls[i]\n",
    "    title_clean = title[title.index( \"m/\" ) + 2 :-1]. replace('-' , ' ')\n",
    "    titles.append(title_clean)\n",
    "  return titles\n",
    "\n",
    "urls =input[\"URL\"]\n",
    "urlsTitleDF = get_article_names(urls)\n",
    "urlsTitleDF"
   ]
  },
  {
   "cell_type": "code",
   "execution_count": 12,
   "metadata": {
    "colab": {
     "base_uri": "https://localhost:8080/"
    },
    "executionInfo": {
     "elapsed": 81,
     "status": "ok",
     "timestamp": 1750307785442,
     "user": {
      "displayName": "Adesh Mishra",
      "userId": "17077495713070140326"
     },
     "user_tz": -330
    },
    "id": "GOO5RZ1bobSj",
    "outputId": "22879681-b868-4503-bb0a-03913bb47bed"
   },
   "outputs": [
    {
     "data": {
      "text/plain": [
       "147"
      ]
     },
     "execution_count": 12,
     "metadata": {},
     "output_type": "execute_result"
    }
   ],
   "source": [
    "len(urlsTitleDF)"
   ]
  },
  {
   "cell_type": "code",
   "execution_count": 13,
   "metadata": {
    "executionInfo": {
     "elapsed": 2850,
     "status": "ok",
     "timestamp": 1750307788294,
     "user": {
      "displayName": "Adesh Mishra",
      "userId": "17077495713070140326"
     },
     "user_tz": -330
    },
    "id": "3xUESzznoksq"
   },
   "outputs": [],
   "source": [
    "url = \"https://insights.blackcoffer.com/ai-and-ml-based-youtube-analytics-and-content-creation-tool-for-optimizing-subscriber-engagement-and-content-strategy/\"\n",
    "\n",
    "page=requests.get(url , headers={\"User-Agent\": \"XY\"})\n",
    "soup = BeautifulSoup(page.text , 'html.parser')\n",
    "#get title\n",
    "title = soup . find(\"h1\",attrs = { 'class' : 'entry-title'}).get_text()\n",
    "\n",
    "#get article text\n",
    "text = soup . find(attrs = { 'class' : 'td-post-content'}).get_text()\n",
    "# break into lines and remove leading and trailing space on each\n",
    "lines = (line.strip() for line in text.splitlines())\n",
    "# break multi-headlines into a line each\n",
    "chunks = (phrase.strip() for line in lines for phrase in line.split(\"  \"))\n",
    "# drop blank lines\n",
    "text = '\\n'.join(chunk for chunk in chunks if chunk)"
   ]
  },
  {
   "cell_type": "code",
   "execution_count": 14,
   "metadata": {
    "colab": {
     "base_uri": "https://localhost:8080/",
     "height": 69
    },
    "executionInfo": {
     "elapsed": 2099,
     "status": "ok",
     "timestamp": 1750307790397,
     "user": {
      "displayName": "Adesh Mishra",
      "userId": "17077495713070140326"
     },
     "user_tz": -330
    },
    "id": "5reRntMqx944",
    "outputId": "dfa74c38-25c2-48d4-95b2-04f8b1c470e4"
   },
   "outputs": [
    {
     "data": {
      "text/plain": [
       "['a+', 'abound', 'abounds', 'abundance', 'abundant', 'accessable']"
      ]
     },
     "metadata": {},
     "output_type": "display_data"
    },
    {
     "data": {
      "text/plain": [
       "['2-faced', '2-faces', 'abnormal', 'abolish', 'abominable', 'abominably']"
      ]
     },
     "metadata": {},
     "output_type": "display_data"
    },
    {
     "data": {
      "text/plain": [
       "['about', 'above', 'after', 'again', 'all', 'am']"
      ]
     },
     "metadata": {},
     "output_type": "display_data"
    }
   ],
   "source": [
    "# Loading positive words\n",
    "with open(positiveWordsFile,'r') as posfile:\n",
    "    positivewords=posfile.read().lower()\n",
    "positiveWordList=positivewords.split('\\n')\n",
    "\n",
    "\n",
    "# Loading negative words\n",
    "with open(nagitiveWordsFile ,'r' ,  encoding=\"ISO-8859-1\") as negfile:\n",
    "    negativeword=negfile.read().lower()\n",
    "negativeWordList=negativeword.split('\\n')\n",
    "\n",
    "#Loading stop words dictionary for removing stop words\n",
    "\n",
    "with open(stopWordsFile ,'r') as stop_words:\n",
    "    stopWords = stop_words.read().lower()\n",
    "stopWordList = stopWords.split('\\n')\n",
    "stopWordList[-1:] = []\n",
    "\n",
    "\n",
    "\n",
    "display( positiveWordList[:6]  , negativeWordList[:6] , stopWordList[:6])"
   ]
  },
  {
   "cell_type": "code",
   "execution_count": 15,
   "metadata": {
    "executionInfo": {
     "elapsed": 30,
     "status": "ok",
     "timestamp": 1750307790429,
     "user": {
      "displayName": "Adesh Mishra",
      "userId": "17077495713070140326"
     },
     "user_tz": -330
    },
    "id": "zXqF3jXr1QPf"
   },
   "outputs": [],
   "source": [
    "#tokenizeing module and filtering tokens using stop words list, removing punctuations"
   ]
  },
  {
   "cell_type": "code",
   "execution_count": 16,
   "metadata": {
    "executionInfo": {
     "elapsed": 25,
     "status": "ok",
     "timestamp": 1750307790457,
     "user": {
      "displayName": "Adesh Mishra",
      "userId": "17077495713070140326"
     },
     "user_tz": -330
    },
    "id": "HQmm3d8622jI"
   },
   "outputs": [],
   "source": [
    "def tokenizer(text):\n",
    "    text = text.lower()\n",
    "    tokenizer = RegexpTokenizer(r'\\w+')\n",
    "    tokens = tokenizer.tokenize(text)\n",
    "    filtered_words = list(filter(lambda token: token not in stopWordList, tokens))\n",
    "    return filtered_words"
   ]
  },
  {
   "cell_type": "code",
   "execution_count": 37,
   "metadata": {
    "executionInfo": {
     "elapsed": 5,
     "status": "ok",
     "timestamp": 1750308763955,
     "user": {
      "displayName": "Adesh Mishra",
      "userId": "17077495713070140326"
     },
     "user_tz": -330
    },
    "id": "pQStUoMT4AVy"
   },
   "outputs": [],
   "source": [
    "# for positive score\n",
    "def positive_score(text):\n",
    "  posword=0\n",
    "  tokenphrase = tokenizer(text)\n",
    "  for word in tokenphrase :\n",
    "    if word in positiveWordList:\n",
    "       posword+=1\n",
    "\n",
    "  return posword"
   ]
  },
  {
   "cell_type": "code",
   "execution_count": 39,
   "metadata": {
    "executionInfo": {
     "elapsed": 18,
     "status": "ok",
     "timestamp": 1750308822372,
     "user": {
      "displayName": "Adesh Mishra",
      "userId": "17077495713070140326"
     },
     "user_tz": -330
    },
    "id": "TaOjOqt36TZ3"
   },
   "outputs": [],
   "source": [
    "# For negative score\n",
    "def negative_score(text):\n",
    "  negword=0\n",
    "  tokenphrase = tokenizer(text)\n",
    "  for word in tokenphrase :\n",
    "    if word in negativeWordList : negword +=1\n",
    "\n",
    "   ## retneg = negword\n",
    "  return negword"
   ]
  },
  {
   "cell_type": "code",
   "execution_count": 19,
   "metadata": {
    "executionInfo": {
     "elapsed": 6,
     "status": "ok",
     "timestamp": 1750307790472,
     "user": {
      "displayName": "Adesh Mishra",
      "userId": "17077495713070140326"
     },
     "user_tz": -330
    },
    "id": "CkNmxY4W6cEe"
   },
   "outputs": [],
   "source": [
    "# Polarity score\n",
    "def polarity_score(positive_score , negative_score) :\n",
    "  return (positive_score - negative_score) / ((positive_score + negative_score) + 0.000001)"
   ]
  },
  {
   "cell_type": "code",
   "execution_count": 20,
   "metadata": {
    "executionInfo": {
     "elapsed": 26,
     "status": "ok",
     "timestamp": 1750307790494,
     "user": {
      "displayName": "Adesh Mishra",
      "userId": "17077495713070140326"
     },
     "user_tz": -330
    },
    "id": "y9gzCejXA-Om"
   },
   "outputs": [],
   "source": [
    "# Total world count\n",
    "def total_word_count(text):\n",
    "    tokens = tokenizer(text)\n",
    "    return len(tokens)"
   ]
  },
  {
   "cell_type": "code",
   "execution_count": 45,
   "metadata": {
    "executionInfo": {
     "elapsed": 15,
     "status": "ok",
     "timestamp": 1750309576592,
     "user": {
      "displayName": "Adesh Mishra",
      "userId": "17077495713070140326"
     },
     "user_tz": -330
    },
    "id": "o6joLX4qC-FO"
   },
   "outputs": [],
   "source": [
    "# Subjecrtivity score\n",
    "def subjectivity_score(positive_score , negative_score,total_word_count):\n",
    "  return (positive_score + negative_score) / ((total_word_count) + 0.000001)"
   ]
  },
  {
   "cell_type": "code",
   "execution_count": 66,
   "metadata": {
    "executionInfo": {
     "elapsed": 2,
     "status": "ok",
     "timestamp": 1750314312488,
     "user": {
      "displayName": "Adesh Mishra",
      "userId": "17077495713070140326"
     },
     "user_tz": -330
    },
    "id": "KTZUVyASBHjV"
   },
   "outputs": [],
   "source": [
    "def AverageSentenceLength(text):\n",
    "    Wordcount = len(tokenizer(text))\n",
    "    SentenceCount = len(sent_tokenize(text))\n",
    "    if SentenceCount > 0:\n",
    "        avg = Wordcount / SentenceCount\n",
    "    else:\n",
    "        avg = 0  # Avoid division by zero\n",
    "    return avg\n"
   ]
  },
  {
   "cell_type": "code",
   "execution_count": 23,
   "metadata": {
    "executionInfo": {
     "elapsed": 1,
     "status": "ok",
     "timestamp": 1750307790535,
     "user": {
      "displayName": "Adesh Mishra",
      "userId": "17077495713070140326"
     },
     "user_tz": -330
    },
    "id": "S-8FmXvh6PLh"
   },
   "outputs": [],
   "source": [
    "# Counting complex words\n",
    "def complex_word_count(text):\n",
    "    tokens = tokenizer(text)\n",
    "    complexWord = 0\n",
    "\n",
    "    for word in tokens:\n",
    "        vowels=0\n",
    "        if word.endswith(('es','ed')):\n",
    "            pass\n",
    "        else:\n",
    "            for w in word:\n",
    "                if(w=='a' or w=='e' or w=='i' or w=='o' or w=='u'):\n",
    "                    vowels += 1\n",
    "            if(vowels > 2):\n",
    "                complexWord += 1\n",
    "    return complexWord"
   ]
  },
  {
   "cell_type": "code",
   "execution_count": 24,
   "metadata": {
    "executionInfo": {
     "elapsed": 1,
     "status": "ok",
     "timestamp": 1750307790538,
     "user": {
      "displayName": "Adesh Mishra",
      "userId": "17077495713070140326"
     },
     "user_tz": -330
    },
    "id": "HaW6UlVH1vYV"
   },
   "outputs": [],
   "source": [
    "#perecntage of complex word\n",
    "def percentage_complex_word(text):\n",
    "    tokens = tokenizer(text)\n",
    "    complexWord = 0\n",
    "    complex_word_percentage = 0\n",
    "\n",
    "    for word in tokens:\n",
    "        vowels=0\n",
    "        if word.endswith(('es','ed')):\n",
    "            pass\n",
    "        else:\n",
    "            for w in word:\n",
    "                if(w=='a' or w=='e' or w=='i' or w=='o' or w=='u'):\n",
    "                    vowels += 1\n",
    "            if(vowels > 2):\n",
    "                complexWord += 1\n",
    "    if len(tokens) != 0:\n",
    "        complex_word_percentage = complexWord/len(tokens)\n",
    "\n",
    "    return complex_word_percentage"
   ]
  },
  {
   "cell_type": "code",
   "execution_count": 25,
   "metadata": {
    "executionInfo": {
     "elapsed": 1,
     "status": "ok",
     "timestamp": 1750307790541,
     "user": {
      "displayName": "Adesh Mishra",
      "userId": "17077495713070140326"
     },
     "user_tz": -330
    },
    "id": "hwgaqSj-2XRn"
   },
   "outputs": [],
   "source": [
    "#Fog index\n",
    "def fog_index(averageSentenceLength, percentageComplexWord):\n",
    "    fogIndex = 0.4 * (averageSentenceLength + percentageComplexWord)\n",
    "    return fogIndex"
   ]
  },
  {
   "cell_type": "code",
   "execution_count": 65,
   "metadata": {
    "executionInfo": {
     "elapsed": 41,
     "status": "ok",
     "timestamp": 1750314300806,
     "user": {
      "displayName": "Adesh Mishra",
      "userId": "17077495713070140326"
     },
     "user_tz": -330
    },
    "id": "WObyevAY5hHv"
   },
   "outputs": [],
   "source": [
    "# AVG NUMBER OF WORDS PER SENTENCE.Average\n",
    "# Number of Words Per Sentence = the total number of words / the total number of sentences\n",
    "def average_words_per_sentence(text):\n",
    "    words = tokenizer(text)\n",
    "    sentences = sent_tokenize(text)\n",
    "\n",
    "    if len(sentences) > 0:\n",
    "        return len(words) / len(sentences)\n",
    "    else:\n",
    "        return 0\n"
   ]
  },
  {
   "cell_type": "code",
   "execution_count": 27,
   "metadata": {
    "executionInfo": {
     "elapsed": 22,
     "status": "ok",
     "timestamp": 1750307790588,
     "user": {
      "displayName": "Adesh Mishra",
      "userId": "17077495713070140326"
     },
     "user_tz": -330
    },
    "id": "27IQibHX6EOd"
   },
   "outputs": [],
   "source": [
    "def syllable_count(text):\n",
    "    tokens = tokenizer(text)\n",
    "    total_syllables = 0\n",
    "    vowels = \"aeiou\"\n",
    "\n",
    "    for word in tokens:\n",
    "        word_lower = word.lower()\n",
    "        syllables = sum(1 for char in word_lower if char in vowels)\n",
    "\n",
    "        # Handle exceptions for words ending with 'es' or 'ed'\n",
    "        if word_lower.endswith('es') or word_lower.endswith('ed'):\n",
    "            if syllables > 1:\n",
    "                syllables -= 1\n",
    "\n",
    "        # Ensure at least one syllable per word\n",
    "        if syllables == 0:\n",
    "            syllables = 1\n",
    "\n",
    "        total_syllables += syllables\n",
    "\n",
    "    return total_syllables\n"
   ]
  },
  {
   "cell_type": "code",
   "execution_count": 28,
   "metadata": {
    "executionInfo": {
     "elapsed": 2,
     "status": "ok",
     "timestamp": 1750307790591,
     "user": {
      "displayName": "Adesh Mishra",
      "userId": "17077495713070140326"
     },
     "user_tz": -330
    },
    "id": "_k-OndX_-Ma8"
   },
   "outputs": [],
   "source": [
    "#count_personal_pronouns\n",
    "import re\n",
    "\n",
    "def count_personal_pronouns(text):\n",
    "    # Regex pattern for personal pronouns, using word boundaries for exact matches\n",
    "    pattern = r'\\b(I|we|my|ours|us)\\b'\n",
    "    # Find all matches, case-insensitive\n",
    "    matches = re.findall(pattern, text, flags=re.IGNORECASE)\n",
    "    # Remove 'US' if present (case-insensitive, as a word)\n",
    "    matches = [m for m in matches if not (m.lower() == 'us' and re.search(r'\\bUS\\b', text))]\n",
    "    return len(matches)"
   ]
  },
  {
   "cell_type": "code",
   "execution_count": 29,
   "metadata": {
    "executionInfo": {
     "elapsed": 1,
     "status": "ok",
     "timestamp": 1750307790593,
     "user": {
      "displayName": "Adesh Mishra",
      "userId": "17077495713070140326"
     },
     "user_tz": -330
    },
    "id": "YQgCi4Dm_nbP"
   },
   "outputs": [],
   "source": [
    "def average_word_length(text):\n",
    "    # Tokenize the text into words (using simple split, or use a tokenizer if you have one)\n",
    "    words = tokenizer(text)\n",
    "    if not words:\n",
    "        return 0  # Avoid division by zero\n",
    "\n",
    "    total_characters = sum(len(word) for word in words)\n",
    "    avg_length = total_characters / len(words)\n",
    "    return avg_length"
   ]
  },
  {
   "cell_type": "code",
   "execution_count": 30,
   "metadata": {
    "colab": {
     "base_uri": "https://localhost:8080/",
     "height": 458
    },
    "executionInfo": {
     "elapsed": 4,
     "status": "ok",
     "timestamp": 1750307790601,
     "user": {
      "displayName": "Adesh Mishra",
      "userId": "17077495713070140326"
     },
     "user_tz": -330
    },
    "id": "Oky6KiAHBQS1",
    "outputId": "46c92e3f-1fdb-4f40-be72-1d14d4f73a25"
   },
   "outputs": [
    {
     "data": {
      "text/html": [
       "<div>\n",
       "<style scoped>\n",
       "    .dataframe tbody tr th:only-of-type {\n",
       "        vertical-align: middle;\n",
       "    }\n",
       "\n",
       "    .dataframe tbody tr th {\n",
       "        vertical-align: top;\n",
       "    }\n",
       "\n",
       "    .dataframe thead th {\n",
       "        text-align: right;\n",
       "    }\n",
       "</style>\n",
       "<table border=\"1\" class=\"dataframe\">\n",
       "  <thead>\n",
       "    <tr style=\"text-align: right;\">\n",
       "      <th></th>\n",
       "      <th>URL</th>\n",
       "    </tr>\n",
       "  </thead>\n",
       "  <tbody>\n",
       "    <tr>\n",
       "      <th>0</th>\n",
       "      <td>https://insights.blackcoffer.com/ai-and-ml-bas...</td>\n",
       "    </tr>\n",
       "    <tr>\n",
       "      <th>1</th>\n",
       "      <td>https://insights.blackcoffer.com/enhancing-fro...</td>\n",
       "    </tr>\n",
       "    <tr>\n",
       "      <th>2</th>\n",
       "      <td>https://insights.blackcoffer.com/roas-dashboar...</td>\n",
       "    </tr>\n",
       "    <tr>\n",
       "      <th>3</th>\n",
       "      <td>https://insights.blackcoffer.com/efficient-pro...</td>\n",
       "    </tr>\n",
       "    <tr>\n",
       "      <th>4</th>\n",
       "      <td>https://insights.blackcoffer.com/development-o...</td>\n",
       "    </tr>\n",
       "    <tr>\n",
       "      <th>...</th>\n",
       "      <td>...</td>\n",
       "    </tr>\n",
       "    <tr>\n",
       "      <th>142</th>\n",
       "      <td>https://insights.blackcoffer.com/population-an...</td>\n",
       "    </tr>\n",
       "    <tr>\n",
       "      <th>143</th>\n",
       "      <td>https://insights.blackcoffer.com/google-lsa-ap...</td>\n",
       "    </tr>\n",
       "    <tr>\n",
       "      <th>144</th>\n",
       "      <td>https://insights.blackcoffer.com/healthcare-da...</td>\n",
       "    </tr>\n",
       "    <tr>\n",
       "      <th>145</th>\n",
       "      <td>https://insights.blackcoffer.com/budget-sales-...</td>\n",
       "    </tr>\n",
       "    <tr>\n",
       "      <th>146</th>\n",
       "      <td>https://insights.blackcoffer.com/amazon-buy-bo...</td>\n",
       "    </tr>\n",
       "  </tbody>\n",
       "</table>\n",
       "<p>147 rows × 1 columns</p>\n",
       "</div><br><label><b>dtype:</b> object</label>"
      ],
      "text/plain": [
       "0      https://insights.blackcoffer.com/ai-and-ml-bas...\n",
       "1      https://insights.blackcoffer.com/enhancing-fro...\n",
       "2      https://insights.blackcoffer.com/roas-dashboar...\n",
       "3      https://insights.blackcoffer.com/efficient-pro...\n",
       "4      https://insights.blackcoffer.com/development-o...\n",
       "                             ...                        \n",
       "142    https://insights.blackcoffer.com/population-an...\n",
       "143    https://insights.blackcoffer.com/google-lsa-ap...\n",
       "144    https://insights.blackcoffer.com/healthcare-da...\n",
       "145    https://insights.blackcoffer.com/budget-sales-...\n",
       "146    https://insights.blackcoffer.com/amazon-buy-bo...\n",
       "Name: URL, Length: 147, dtype: object"
      ]
     },
     "execution_count": 30,
     "metadata": {},
     "output_type": "execute_result"
    }
   ],
   "source": [
    "URLS = input [\"URL\"]\n",
    "URLS"
   ]
  },
  {
   "cell_type": "code",
   "execution_count": 31,
   "metadata": {
    "executionInfo": {
     "elapsed": 301026,
     "status": "ok",
     "timestamp": 1750308091629,
     "user": {
      "displayName": "Adesh Mishra",
      "userId": "17077495713070140326"
     },
     "user_tz": -330
    },
    "id": "znaTkyz5Bc3d"
   },
   "outputs": [],
   "source": [
    "corps =[]\n",
    "for url in URLS:\n",
    "\n",
    "  page=requests.get(url , headers={\"User-Agent\": \"XY\"})\n",
    "  soup = BeautifulSoup(page.text , 'html.parser')\n",
    "  #get title\n",
    "  title = soup . find(\"h1\",attrs = { 'class' : 'entry-title'}).get_text()\n",
    "\n",
    "  #get article text\n",
    "  text = soup . find(attrs = { 'class' : 'td-post-content'}).get_text()\n",
    "  # break into lines and remove leading and trailing space on each\n",
    "  lines = (line.strip() for line in text.splitlines())\n",
    "  # break multi-headlines into a line each\n",
    "  chunks = (phrase.strip() for line in lines for phrase in line.split(\"  \"))\n",
    "  # drop blank lines\n",
    "  text = '\\n'.join(chunk for chunk in chunks if chunk)\n",
    "  corps.append(text)"
   ]
  },
  {
   "cell_type": "code",
   "execution_count": 73,
   "metadata": {
    "colab": {
     "base_uri": "https://localhost:8080/",
     "height": 600
    },
    "executionInfo": {
     "elapsed": 6331,
     "status": "ok",
     "timestamp": 1750315802404,
     "user": {
      "displayName": "Adesh Mishra",
      "userId": "17077495713070140326"
     },
     "user_tz": -330
    },
    "id": "RQwcRjw7ThGI",
    "outputId": "e82c5022-b3f7-40be-8a4d-614a374e4a7c"
   },
   "outputs": [
    {
     "data": {
      "application/vnd.google.colaboratory.intrinsic+json": {
       "summary": "{\n  \"name\": \"df\",\n  \"rows\": 147,\n  \"fields\": [\n    {\n      \"column\": \"URL_ID\",\n      \"properties\": {\n        \"dtype\": \"string\",\n        \"num_unique_values\": 147,\n        \"samples\": [\n          \"Netclan20241142\",\n          \"Netclan20241068\",\n          \"Netclan20241155\"\n        ],\n        \"semantic_type\": \"\",\n        \"description\": \"\"\n      }\n    },\n    {\n      \"column\": \"URL\",\n      \"properties\": {\n        \"dtype\": \"string\",\n        \"num_unique_values\": 143,\n        \"samples\": [\n          \"https://insights.blackcoffer.com/a-leading-firm-in-the-usa-website-seo-optimization/\",\n          \"https://insights.blackcoffer.com/advanced-data-visualization-solutions-for-monitoring-key-business-metrics-with-integrated-interactive-dashboards/\",\n          \"https://insights.blackcoffer.com/auvik-connectwise-integration-in-grafana/\"\n        ],\n        \"semantic_type\": \"\",\n        \"description\": \"\"\n      }\n    },\n    {\n      \"column\": \"positive_score\",\n      \"properties\": {\n        \"dtype\": \"number\",\n        \"std\": 14,\n        \"min\": 0,\n        \"max\": 80,\n        \"num_unique_values\": 41,\n        \"samples\": [\n          27,\n          36,\n          64\n        ],\n        \"semantic_type\": \"\",\n        \"description\": \"\"\n      }\n    },\n    {\n      \"column\": \"negative_score\",\n      \"properties\": {\n        \"dtype\": \"number\",\n        \"std\": 5,\n        \"min\": 0,\n        \"max\": 31,\n        \"num_unique_values\": 22,\n        \"samples\": [\n          2,\n          10,\n          24\n        ],\n        \"semantic_type\": \"\",\n        \"description\": \"\"\n      }\n    },\n    {\n      \"column\": \"polarity_score\",\n      \"properties\": {\n        \"dtype\": \"number\",\n        \"std\": 0.34887916881143044,\n        \"min\": -0.8333332638888947,\n        \"max\": 0.9999999090909174,\n        \"num_unique_values\": 108,\n        \"samples\": [\n          0.878787852157944,\n          0.45454544938016533,\n          0.7142856802721105\n        ],\n        \"semantic_type\": \"\",\n        \"description\": \"\"\n      }\n    },\n    {\n      \"column\": \"subjectivity_score\",\n      \"properties\": {\n        \"dtype\": \"number\",\n        \"std\": 0.02493463923435592,\n        \"min\": 0.0,\n        \"max\": 0.11887072790658139,\n        \"num_unique_values\": 140,\n        \"samples\": [\n          0.0563380279045163,\n          0.053003533381612955,\n          0.07371349085714396\n        ],\n        \"semantic_type\": \"\",\n        \"description\": \"\"\n      }\n    },\n    {\n      \"column\": \"AverageSentenceLenght\",\n      \"properties\": {\n        \"dtype\": \"number\",\n        \"std\": 24.0869954500136,\n        \"min\": 11.736842105263158,\n        \"max\": 176.0,\n        \"num_unique_values\": 136,\n        \"samples\": [\n          23.181818181818183,\n          17.88,\n          36.125\n        ],\n        \"semantic_type\": \"\",\n        \"description\": \"\"\n      }\n    },\n    {\n      \"column\": \"percentage_complex_word\",\n      \"properties\": {\n        \"dtype\": \"number\",\n        \"std\": 0.0668433660881031,\n        \"min\": 0.1895424836601307,\n        \"max\": 0.5595238095238095,\n        \"num_unique_values\": 141,\n        \"samples\": [\n          0.36444444444444446,\n          0.4153846153846154,\n          0.3796940194714882\n        ],\n        \"semantic_type\": \"\",\n        \"description\": \"\"\n      }\n    },\n    {\n      \"column\": \"fog_index\",\n      \"properties\": {\n        \"dtype\": \"number\",\n        \"std\": 9.635232013457049,\n        \"min\": 4.829265990087326,\n        \"max\": 70.5318181818182,\n        \"num_unique_values\": 143,\n        \"samples\": [\n          13.9974358974359,\n          22.573214285714286,\n          6.349308755760369\n        ],\n        \"semantic_type\": \"\",\n        \"description\": \"\"\n      }\n    },\n    {\n      \"column\": \"average_words_per_sentence\",\n      \"properties\": {\n        \"dtype\": \"number\",\n        \"std\": 24.0869954500136,\n        \"min\": 11.736842105263158,\n        \"max\": 176.0,\n        \"num_unique_values\": 136,\n        \"samples\": [\n          23.181818181818183,\n          17.88,\n          36.125\n        ],\n        \"semantic_type\": \"\",\n        \"description\": \"\"\n      }\n    },\n    {\n      \"column\": \"complex_word_count\",\n      \"properties\": {\n        \"dtype\": \"number\",\n        \"std\": 98,\n        \"min\": 22,\n        \"max\": 606,\n        \"num_unique_values\": 105,\n        \"samples\": [\n          310,\n          114,\n          84\n        ],\n        \"semantic_type\": \"\",\n        \"description\": \"\"\n      }\n    },\n    {\n      \"column\": \"total_word_count\",\n      \"properties\": {\n        \"dtype\": \"number\",\n        \"std\": 242,\n        \"min\": 61,\n        \"max\": 1272,\n        \"num_unique_values\": 120,\n        \"samples\": [\n          354,\n          150,\n          544\n        ],\n        \"semantic_type\": \"\",\n        \"description\": \"\"\n      }\n    },\n    {\n      \"column\": \"syllable_count\",\n      \"properties\": {\n        \"dtype\": \"number\",\n        \"std\": 619,\n        \"min\": 169,\n        \"max\": 3530,\n        \"num_unique_values\": 135,\n        \"samples\": [\n          473,\n          635,\n          1164\n        ],\n        \"semantic_type\": \"\",\n        \"description\": \"\"\n      }\n    },\n    {\n      \"column\": \"personal_pronouns\",\n      \"properties\": {\n        \"dtype\": \"number\",\n        \"std\": 5,\n        \"min\": 0,\n        \"max\": 30,\n        \"num_unique_values\": 21,\n        \"samples\": [\n          1,\n          12,\n          17\n        ],\n        \"semantic_type\": \"\",\n        \"description\": \"\"\n      }\n    },\n    {\n      \"column\": \"average_word_length\",\n      \"properties\": {\n        \"dtype\": \"number\",\n        \"std\": 0.5753097002499711,\n        \"min\": 5.34375,\n        \"max\": 8.6875,\n        \"num_unique_values\": 143,\n        \"samples\": [\n          7.153846153846154,\n          7.459821428571429,\n          7.1336405529953915\n        ],\n        \"semantic_type\": \"\",\n        \"description\": \"\"\n      }\n    }\n  ]\n}",
       "type": "dataframe",
       "variable_name": "df"
      },
      "text/html": [
       "\n",
       "  <div id=\"df-19a8ba76-b329-459d-9ac0-fc68421745e9\" class=\"colab-df-container\">\n",
       "    <div>\n",
       "<style scoped>\n",
       "    .dataframe tbody tr th:only-of-type {\n",
       "        vertical-align: middle;\n",
       "    }\n",
       "\n",
       "    .dataframe tbody tr th {\n",
       "        vertical-align: top;\n",
       "    }\n",
       "\n",
       "    .dataframe thead th {\n",
       "        text-align: right;\n",
       "    }\n",
       "</style>\n",
       "<table border=\"1\" class=\"dataframe\">\n",
       "  <thead>\n",
       "    <tr style=\"text-align: right;\">\n",
       "      <th></th>\n",
       "      <th>URL_ID</th>\n",
       "      <th>URL</th>\n",
       "      <th>positive_score</th>\n",
       "      <th>negative_score</th>\n",
       "      <th>polarity_score</th>\n",
       "      <th>subjectivity_score</th>\n",
       "      <th>AverageSentenceLenght</th>\n",
       "      <th>percentage_complex_word</th>\n",
       "      <th>fog_index</th>\n",
       "      <th>average_words_per_sentence</th>\n",
       "      <th>complex_word_count</th>\n",
       "      <th>total_word_count</th>\n",
       "      <th>syllable_count</th>\n",
       "      <th>personal_pronouns</th>\n",
       "      <th>average_word_length</th>\n",
       "    </tr>\n",
       "  </thead>\n",
       "  <tbody>\n",
       "    <tr>\n",
       "      <th>0</th>\n",
       "      <td>Netclan20241017</td>\n",
       "      <td>https://insights.blackcoffer.com/ai-and-ml-bas...</td>\n",
       "      <td>3</td>\n",
       "      <td>2</td>\n",
       "      <td>0.200000</td>\n",
       "      <td>0.023810</td>\n",
       "      <td>42.000000</td>\n",
       "      <td>0.361905</td>\n",
       "      <td>16.944762</td>\n",
       "      <td>42.000000</td>\n",
       "      <td>76</td>\n",
       "      <td>210</td>\n",
       "      <td>508</td>\n",
       "      <td>1</td>\n",
       "      <td>6.861905</td>\n",
       "    </tr>\n",
       "    <tr>\n",
       "      <th>1</th>\n",
       "      <td>Netclan20241018</td>\n",
       "      <td>https://insights.blackcoffer.com/enhancing-fro...</td>\n",
       "      <td>21</td>\n",
       "      <td>8</td>\n",
       "      <td>0.448276</td>\n",
       "      <td>0.055238</td>\n",
       "      <td>37.500000</td>\n",
       "      <td>0.304762</td>\n",
       "      <td>15.121905</td>\n",
       "      <td>37.500000</td>\n",
       "      <td>160</td>\n",
       "      <td>525</td>\n",
       "      <td>1172</td>\n",
       "      <td>7</td>\n",
       "      <td>6.247619</td>\n",
       "    </tr>\n",
       "    <tr>\n",
       "      <th>2</th>\n",
       "      <td>Netclan20241019</td>\n",
       "      <td>https://insights.blackcoffer.com/roas-dashboar...</td>\n",
       "      <td>13</td>\n",
       "      <td>7</td>\n",
       "      <td>0.300000</td>\n",
       "      <td>0.060976</td>\n",
       "      <td>20.500000</td>\n",
       "      <td>0.362805</td>\n",
       "      <td>8.345122</td>\n",
       "      <td>20.500000</td>\n",
       "      <td>119</td>\n",
       "      <td>328</td>\n",
       "      <td>782</td>\n",
       "      <td>1</td>\n",
       "      <td>6.503049</td>\n",
       "    </tr>\n",
       "    <tr>\n",
       "      <th>3</th>\n",
       "      <td>Netclan20241020</td>\n",
       "      <td>https://insights.blackcoffer.com/efficient-pro...</td>\n",
       "      <td>23</td>\n",
       "      <td>11</td>\n",
       "      <td>0.352941</td>\n",
       "      <td>0.077098</td>\n",
       "      <td>55.125000</td>\n",
       "      <td>0.471655</td>\n",
       "      <td>22.238662</td>\n",
       "      <td>55.125000</td>\n",
       "      <td>208</td>\n",
       "      <td>441</td>\n",
       "      <td>1206</td>\n",
       "      <td>4</td>\n",
       "      <td>7.714286</td>\n",
       "    </tr>\n",
       "    <tr>\n",
       "      <th>4</th>\n",
       "      <td>Netclan20241021</td>\n",
       "      <td>https://insights.blackcoffer.com/development-o...</td>\n",
       "      <td>18</td>\n",
       "      <td>3</td>\n",
       "      <td>0.714286</td>\n",
       "      <td>0.038603</td>\n",
       "      <td>15.542857</td>\n",
       "      <td>0.303309</td>\n",
       "      <td>6.338466</td>\n",
       "      <td>15.542857</td>\n",
       "      <td>165</td>\n",
       "      <td>544</td>\n",
       "      <td>1276</td>\n",
       "      <td>1</td>\n",
       "      <td>6.325368</td>\n",
       "    </tr>\n",
       "    <tr>\n",
       "      <th>...</th>\n",
       "      <td>...</td>\n",
       "      <td>...</td>\n",
       "      <td>...</td>\n",
       "      <td>...</td>\n",
       "      <td>...</td>\n",
       "      <td>...</td>\n",
       "      <td>...</td>\n",
       "      <td>...</td>\n",
       "      <td>...</td>\n",
       "      <td>...</td>\n",
       "      <td>...</td>\n",
       "      <td>...</td>\n",
       "      <td>...</td>\n",
       "      <td>...</td>\n",
       "      <td>...</td>\n",
       "    </tr>\n",
       "    <tr>\n",
       "      <th>142</th>\n",
       "      <td>Netclan20241159</td>\n",
       "      <td>https://insights.blackcoffer.com/population-an...</td>\n",
       "      <td>14</td>\n",
       "      <td>9</td>\n",
       "      <td>0.217391</td>\n",
       "      <td>0.035714</td>\n",
       "      <td>53.666667</td>\n",
       "      <td>0.305901</td>\n",
       "      <td>21.589027</td>\n",
       "      <td>53.666667</td>\n",
       "      <td>197</td>\n",
       "      <td>644</td>\n",
       "      <td>1526</td>\n",
       "      <td>2</td>\n",
       "      <td>6.422360</td>\n",
       "    </tr>\n",
       "    <tr>\n",
       "      <th>143</th>\n",
       "      <td>Netclan20241160</td>\n",
       "      <td>https://insights.blackcoffer.com/google-lsa-ap...</td>\n",
       "      <td>23</td>\n",
       "      <td>19</td>\n",
       "      <td>0.095238</td>\n",
       "      <td>0.045405</td>\n",
       "      <td>29.838710</td>\n",
       "      <td>0.351351</td>\n",
       "      <td>12.076024</td>\n",
       "      <td>29.838710</td>\n",
       "      <td>325</td>\n",
       "      <td>925</td>\n",
       "      <td>2304</td>\n",
       "      <td>6</td>\n",
       "      <td>6.513514</td>\n",
       "    </tr>\n",
       "    <tr>\n",
       "      <th>144</th>\n",
       "      <td>Netclan20241161</td>\n",
       "      <td>https://insights.blackcoffer.com/healthcare-da...</td>\n",
       "      <td>11</td>\n",
       "      <td>11</td>\n",
       "      <td>0.000000</td>\n",
       "      <td>0.089431</td>\n",
       "      <td>30.750000</td>\n",
       "      <td>0.300813</td>\n",
       "      <td>12.420325</td>\n",
       "      <td>30.750000</td>\n",
       "      <td>74</td>\n",
       "      <td>246</td>\n",
       "      <td>586</td>\n",
       "      <td>13</td>\n",
       "      <td>6.410569</td>\n",
       "    </tr>\n",
       "    <tr>\n",
       "      <th>145</th>\n",
       "      <td>Netclan20241162</td>\n",
       "      <td>https://insights.blackcoffer.com/budget-sales-...</td>\n",
       "      <td>0</td>\n",
       "      <td>0</td>\n",
       "      <td>0.000000</td>\n",
       "      <td>0.000000</td>\n",
       "      <td>94.000000</td>\n",
       "      <td>0.234043</td>\n",
       "      <td>37.693617</td>\n",
       "      <td>94.000000</td>\n",
       "      <td>22</td>\n",
       "      <td>94</td>\n",
       "      <td>240</td>\n",
       "      <td>0</td>\n",
       "      <td>7.127660</td>\n",
       "    </tr>\n",
       "    <tr>\n",
       "      <th>146</th>\n",
       "      <td>Netclan20241163</td>\n",
       "      <td>https://insights.blackcoffer.com/amazon-buy-bo...</td>\n",
       "      <td>2</td>\n",
       "      <td>0</td>\n",
       "      <td>1.000000</td>\n",
       "      <td>0.027397</td>\n",
       "      <td>24.333333</td>\n",
       "      <td>0.356164</td>\n",
       "      <td>9.875799</td>\n",
       "      <td>24.333333</td>\n",
       "      <td>26</td>\n",
       "      <td>73</td>\n",
       "      <td>202</td>\n",
       "      <td>1</td>\n",
       "      <td>7.589041</td>\n",
       "    </tr>\n",
       "  </tbody>\n",
       "</table>\n",
       "<p>147 rows × 15 columns</p>\n",
       "</div>\n",
       "    <div class=\"colab-df-buttons\">\n",
       "\n",
       "  <div class=\"colab-df-container\">\n",
       "    <button class=\"colab-df-convert\" onclick=\"convertToInteractive('df-19a8ba76-b329-459d-9ac0-fc68421745e9')\"\n",
       "            title=\"Convert this dataframe to an interactive table.\"\n",
       "            style=\"display:none;\">\n",
       "\n",
       "  <svg xmlns=\"http://www.w3.org/2000/svg\" height=\"24px\" viewBox=\"0 -960 960 960\">\n",
       "    <path d=\"M120-120v-720h720v720H120Zm60-500h600v-160H180v160Zm220 220h160v-160H400v160Zm0 220h160v-160H400v160ZM180-400h160v-160H180v160Zm440 0h160v-160H620v160ZM180-180h160v-160H180v160Zm440 0h160v-160H620v160Z\"/>\n",
       "  </svg>\n",
       "    </button>\n",
       "\n",
       "  <style>\n",
       "    .colab-df-container {\n",
       "      display:flex;\n",
       "      gap: 12px;\n",
       "    }\n",
       "\n",
       "    .colab-df-convert {\n",
       "      background-color: #E8F0FE;\n",
       "      border: none;\n",
       "      border-radius: 50%;\n",
       "      cursor: pointer;\n",
       "      display: none;\n",
       "      fill: #1967D2;\n",
       "      height: 32px;\n",
       "      padding: 0 0 0 0;\n",
       "      width: 32px;\n",
       "    }\n",
       "\n",
       "    .colab-df-convert:hover {\n",
       "      background-color: #E2EBFA;\n",
       "      box-shadow: 0px 1px 2px rgba(60, 64, 67, 0.3), 0px 1px 3px 1px rgba(60, 64, 67, 0.15);\n",
       "      fill: #174EA6;\n",
       "    }\n",
       "\n",
       "    .colab-df-buttons div {\n",
       "      margin-bottom: 4px;\n",
       "    }\n",
       "\n",
       "    [theme=dark] .colab-df-convert {\n",
       "      background-color: #3B4455;\n",
       "      fill: #D2E3FC;\n",
       "    }\n",
       "\n",
       "    [theme=dark] .colab-df-convert:hover {\n",
       "      background-color: #434B5C;\n",
       "      box-shadow: 0px 1px 3px 1px rgba(0, 0, 0, 0.15);\n",
       "      filter: drop-shadow(0px 1px 2px rgba(0, 0, 0, 0.3));\n",
       "      fill: #FFFFFF;\n",
       "    }\n",
       "  </style>\n",
       "\n",
       "    <script>\n",
       "      const buttonEl =\n",
       "        document.querySelector('#df-19a8ba76-b329-459d-9ac0-fc68421745e9 button.colab-df-convert');\n",
       "      buttonEl.style.display =\n",
       "        google.colab.kernel.accessAllowed ? 'block' : 'none';\n",
       "\n",
       "      async function convertToInteractive(key) {\n",
       "        const element = document.querySelector('#df-19a8ba76-b329-459d-9ac0-fc68421745e9');\n",
       "        const dataTable =\n",
       "          await google.colab.kernel.invokeFunction('convertToInteractive',\n",
       "                                                    [key], {});\n",
       "        if (!dataTable) return;\n",
       "\n",
       "        const docLinkHtml = 'Like what you see? Visit the ' +\n",
       "          '<a target=\"_blank\" href=https://colab.research.google.com/notebooks/data_table.ipynb>data table notebook</a>'\n",
       "          + ' to learn more about interactive tables.';\n",
       "        element.innerHTML = '';\n",
       "        dataTable['output_type'] = 'display_data';\n",
       "        await google.colab.output.renderOutput(dataTable, element);\n",
       "        const docLink = document.createElement('div');\n",
       "        docLink.innerHTML = docLinkHtml;\n",
       "        element.appendChild(docLink);\n",
       "      }\n",
       "    </script>\n",
       "  </div>\n",
       "\n",
       "\n",
       "    <div id=\"df-8f42ecc8-1797-463e-a232-c15afe258983\">\n",
       "      <button class=\"colab-df-quickchart\" onclick=\"quickchart('df-8f42ecc8-1797-463e-a232-c15afe258983')\"\n",
       "                title=\"Suggest charts\"\n",
       "                style=\"display:none;\">\n",
       "\n",
       "<svg xmlns=\"http://www.w3.org/2000/svg\" height=\"24px\"viewBox=\"0 0 24 24\"\n",
       "     width=\"24px\">\n",
       "    <g>\n",
       "        <path d=\"M19 3H5c-1.1 0-2 .9-2 2v14c0 1.1.9 2 2 2h14c1.1 0 2-.9 2-2V5c0-1.1-.9-2-2-2zM9 17H7v-7h2v7zm4 0h-2V7h2v10zm4 0h-2v-4h2v4z\"/>\n",
       "    </g>\n",
       "</svg>\n",
       "      </button>\n",
       "\n",
       "<style>\n",
       "  .colab-df-quickchart {\n",
       "      --bg-color: #E8F0FE;\n",
       "      --fill-color: #1967D2;\n",
       "      --hover-bg-color: #E2EBFA;\n",
       "      --hover-fill-color: #174EA6;\n",
       "      --disabled-fill-color: #AAA;\n",
       "      --disabled-bg-color: #DDD;\n",
       "  }\n",
       "\n",
       "  [theme=dark] .colab-df-quickchart {\n",
       "      --bg-color: #3B4455;\n",
       "      --fill-color: #D2E3FC;\n",
       "      --hover-bg-color: #434B5C;\n",
       "      --hover-fill-color: #FFFFFF;\n",
       "      --disabled-bg-color: #3B4455;\n",
       "      --disabled-fill-color: #666;\n",
       "  }\n",
       "\n",
       "  .colab-df-quickchart {\n",
       "    background-color: var(--bg-color);\n",
       "    border: none;\n",
       "    border-radius: 50%;\n",
       "    cursor: pointer;\n",
       "    display: none;\n",
       "    fill: var(--fill-color);\n",
       "    height: 32px;\n",
       "    padding: 0;\n",
       "    width: 32px;\n",
       "  }\n",
       "\n",
       "  .colab-df-quickchart:hover {\n",
       "    background-color: var(--hover-bg-color);\n",
       "    box-shadow: 0 1px 2px rgba(60, 64, 67, 0.3), 0 1px 3px 1px rgba(60, 64, 67, 0.15);\n",
       "    fill: var(--button-hover-fill-color);\n",
       "  }\n",
       "\n",
       "  .colab-df-quickchart-complete:disabled,\n",
       "  .colab-df-quickchart-complete:disabled:hover {\n",
       "    background-color: var(--disabled-bg-color);\n",
       "    fill: var(--disabled-fill-color);\n",
       "    box-shadow: none;\n",
       "  }\n",
       "\n",
       "  .colab-df-spinner {\n",
       "    border: 2px solid var(--fill-color);\n",
       "    border-color: transparent;\n",
       "    border-bottom-color: var(--fill-color);\n",
       "    animation:\n",
       "      spin 1s steps(1) infinite;\n",
       "  }\n",
       "\n",
       "  @keyframes spin {\n",
       "    0% {\n",
       "      border-color: transparent;\n",
       "      border-bottom-color: var(--fill-color);\n",
       "      border-left-color: var(--fill-color);\n",
       "    }\n",
       "    20% {\n",
       "      border-color: transparent;\n",
       "      border-left-color: var(--fill-color);\n",
       "      border-top-color: var(--fill-color);\n",
       "    }\n",
       "    30% {\n",
       "      border-color: transparent;\n",
       "      border-left-color: var(--fill-color);\n",
       "      border-top-color: var(--fill-color);\n",
       "      border-right-color: var(--fill-color);\n",
       "    }\n",
       "    40% {\n",
       "      border-color: transparent;\n",
       "      border-right-color: var(--fill-color);\n",
       "      border-top-color: var(--fill-color);\n",
       "    }\n",
       "    60% {\n",
       "      border-color: transparent;\n",
       "      border-right-color: var(--fill-color);\n",
       "    }\n",
       "    80% {\n",
       "      border-color: transparent;\n",
       "      border-right-color: var(--fill-color);\n",
       "      border-bottom-color: var(--fill-color);\n",
       "    }\n",
       "    90% {\n",
       "      border-color: transparent;\n",
       "      border-bottom-color: var(--fill-color);\n",
       "    }\n",
       "  }\n",
       "</style>\n",
       "\n",
       "      <script>\n",
       "        async function quickchart(key) {\n",
       "          const quickchartButtonEl =\n",
       "            document.querySelector('#' + key + ' button');\n",
       "          quickchartButtonEl.disabled = true;  // To prevent multiple clicks.\n",
       "          quickchartButtonEl.classList.add('colab-df-spinner');\n",
       "          try {\n",
       "            const charts = await google.colab.kernel.invokeFunction(\n",
       "                'suggestCharts', [key], {});\n",
       "          } catch (error) {\n",
       "            console.error('Error during call to suggestCharts:', error);\n",
       "          }\n",
       "          quickchartButtonEl.classList.remove('colab-df-spinner');\n",
       "          quickchartButtonEl.classList.add('colab-df-quickchart-complete');\n",
       "        }\n",
       "        (() => {\n",
       "          let quickchartButtonEl =\n",
       "            document.querySelector('#df-8f42ecc8-1797-463e-a232-c15afe258983 button');\n",
       "          quickchartButtonEl.style.display =\n",
       "            google.colab.kernel.accessAllowed ? 'block' : 'none';\n",
       "        })();\n",
       "      </script>\n",
       "    </div>\n",
       "\n",
       "  <div id=\"id_0860d0c8-3ad6-40b6-9dc1-1e9b7e1f27da\">\n",
       "    <style>\n",
       "      .colab-df-generate {\n",
       "        background-color: #E8F0FE;\n",
       "        border: none;\n",
       "        border-radius: 50%;\n",
       "        cursor: pointer;\n",
       "        display: none;\n",
       "        fill: #1967D2;\n",
       "        height: 32px;\n",
       "        padding: 0 0 0 0;\n",
       "        width: 32px;\n",
       "      }\n",
       "\n",
       "      .colab-df-generate:hover {\n",
       "        background-color: #E2EBFA;\n",
       "        box-shadow: 0px 1px 2px rgba(60, 64, 67, 0.3), 0px 1px 3px 1px rgba(60, 64, 67, 0.15);\n",
       "        fill: #174EA6;\n",
       "      }\n",
       "\n",
       "      [theme=dark] .colab-df-generate {\n",
       "        background-color: #3B4455;\n",
       "        fill: #D2E3FC;\n",
       "      }\n",
       "\n",
       "      [theme=dark] .colab-df-generate:hover {\n",
       "        background-color: #434B5C;\n",
       "        box-shadow: 0px 1px 3px 1px rgba(0, 0, 0, 0.15);\n",
       "        filter: drop-shadow(0px 1px 2px rgba(0, 0, 0, 0.3));\n",
       "        fill: #FFFFFF;\n",
       "      }\n",
       "    </style>\n",
       "    <button class=\"colab-df-generate\" onclick=\"generateWithVariable('df')\"\n",
       "            title=\"Generate code using this dataframe.\"\n",
       "            style=\"display:none;\">\n",
       "\n",
       "  <svg xmlns=\"http://www.w3.org/2000/svg\" height=\"24px\"viewBox=\"0 0 24 24\"\n",
       "       width=\"24px\">\n",
       "    <path d=\"M7,19H8.4L18.45,9,17,7.55,7,17.6ZM5,21V16.75L18.45,3.32a2,2,0,0,1,2.83,0l1.4,1.43a1.91,1.91,0,0,1,.58,1.4,1.91,1.91,0,0,1-.58,1.4L9.25,21ZM18.45,9,17,7.55Zm-12,3A5.31,5.31,0,0,0,4.9,8.1,5.31,5.31,0,0,0,1,6.5,5.31,5.31,0,0,0,4.9,4.9,5.31,5.31,0,0,0,6.5,1,5.31,5.31,0,0,0,8.1,4.9,5.31,5.31,0,0,0,12,6.5,5.46,5.46,0,0,0,6.5,12Z\"/>\n",
       "  </svg>\n",
       "    </button>\n",
       "    <script>\n",
       "      (() => {\n",
       "      const buttonEl =\n",
       "        document.querySelector('#id_0860d0c8-3ad6-40b6-9dc1-1e9b7e1f27da button.colab-df-generate');\n",
       "      buttonEl.style.display =\n",
       "        google.colab.kernel.accessAllowed ? 'block' : 'none';\n",
       "\n",
       "      buttonEl.onclick = () => {\n",
       "        google.colab.notebook.generateWithVariable('df');\n",
       "      }\n",
       "      })();\n",
       "    </script>\n",
       "  </div>\n",
       "\n",
       "    </div>\n",
       "  </div>\n"
      ],
      "text/plain": [
       "              URL_ID                                                URL  \\\n",
       "0    Netclan20241017  https://insights.blackcoffer.com/ai-and-ml-bas...   \n",
       "1    Netclan20241018  https://insights.blackcoffer.com/enhancing-fro...   \n",
       "2    Netclan20241019  https://insights.blackcoffer.com/roas-dashboar...   \n",
       "3    Netclan20241020  https://insights.blackcoffer.com/efficient-pro...   \n",
       "4    Netclan20241021  https://insights.blackcoffer.com/development-o...   \n",
       "..               ...                                                ...   \n",
       "142  Netclan20241159  https://insights.blackcoffer.com/population-an...   \n",
       "143  Netclan20241160  https://insights.blackcoffer.com/google-lsa-ap...   \n",
       "144  Netclan20241161  https://insights.blackcoffer.com/healthcare-da...   \n",
       "145  Netclan20241162  https://insights.blackcoffer.com/budget-sales-...   \n",
       "146  Netclan20241163  https://insights.blackcoffer.com/amazon-buy-bo...   \n",
       "\n",
       "     positive_score  negative_score  polarity_score  subjectivity_score  \\\n",
       "0                 3               2        0.200000            0.023810   \n",
       "1                21               8        0.448276            0.055238   \n",
       "2                13               7        0.300000            0.060976   \n",
       "3                23              11        0.352941            0.077098   \n",
       "4                18               3        0.714286            0.038603   \n",
       "..              ...             ...             ...                 ...   \n",
       "142              14               9        0.217391            0.035714   \n",
       "143              23              19        0.095238            0.045405   \n",
       "144              11              11        0.000000            0.089431   \n",
       "145               0               0        0.000000            0.000000   \n",
       "146               2               0        1.000000            0.027397   \n",
       "\n",
       "     AverageSentenceLenght  percentage_complex_word  fog_index  \\\n",
       "0                42.000000                 0.361905  16.944762   \n",
       "1                37.500000                 0.304762  15.121905   \n",
       "2                20.500000                 0.362805   8.345122   \n",
       "3                55.125000                 0.471655  22.238662   \n",
       "4                15.542857                 0.303309   6.338466   \n",
       "..                     ...                      ...        ...   \n",
       "142              53.666667                 0.305901  21.589027   \n",
       "143              29.838710                 0.351351  12.076024   \n",
       "144              30.750000                 0.300813  12.420325   \n",
       "145              94.000000                 0.234043  37.693617   \n",
       "146              24.333333                 0.356164   9.875799   \n",
       "\n",
       "     average_words_per_sentence  complex_word_count  total_word_count  \\\n",
       "0                     42.000000                  76               210   \n",
       "1                     37.500000                 160               525   \n",
       "2                     20.500000                 119               328   \n",
       "3                     55.125000                 208               441   \n",
       "4                     15.542857                 165               544   \n",
       "..                          ...                 ...               ...   \n",
       "142                   53.666667                 197               644   \n",
       "143                   29.838710                 325               925   \n",
       "144                   30.750000                  74               246   \n",
       "145                   94.000000                  22                94   \n",
       "146                   24.333333                  26                73   \n",
       "\n",
       "     syllable_count  personal_pronouns  average_word_length  \n",
       "0               508                  1             6.861905  \n",
       "1              1172                  7             6.247619  \n",
       "2               782                  1             6.503049  \n",
       "3              1206                  4             7.714286  \n",
       "4              1276                  1             6.325368  \n",
       "..              ...                ...                  ...  \n",
       "142            1526                  2             6.422360  \n",
       "143            2304                  6             6.513514  \n",
       "144             586                 13             6.410569  \n",
       "145             240                  0             7.127660  \n",
       "146             202                  1             7.589041  \n",
       "\n",
       "[147 rows x 15 columns]"
      ]
     },
     "execution_count": 73,
     "metadata": {},
     "output_type": "execute_result"
    }
   ],
   "source": [
    "#df = pd.DataFrame(corps,urlsTitleDF)\n",
    "df = pd.DataFrame({'title':urlsTitleDF,'corps': corps})\n",
    "df['URL'] = URLS\n",
    "df[\"positive_score\"] = df[\"corps\"] . apply (positive_score)\n",
    "df[\"negative_score\"] = df[\"corps\"] . apply (negative_score)\n",
    "df[\"polarity_score\"] = np.vectorize(polarity_score)(df['positive_score'],df['negative_score'])\n",
    "\n",
    "# Calculate the total word count for each article and add it as a new column\n",
    "df[\"total_word_count\"] = df[\"corps\"].apply(total_word_count)\n",
    "\n",
    "df[\"subjectivity_score\"] = np.vectorize(subjectivity_score)(df['positive_score'], df['negative_score'], df['total_word_count'])\n",
    "\n",
    "\n",
    "import nltk\n",
    "try:\n",
    "    nltk.data.find('tokenizers/punkt_tab')\n",
    "except LookupError:\n",
    "    nltk.download('punkt_tab')\n",
    "df[\"AverageSentenceLenght\"] = df[\"corps\"] . apply (AverageSentenceLenght)\n",
    "\n",
    "df[\"percentage_complex_word\"] = df[\"corps\"] . apply (percentage_complex_word)\n",
    "df[\"fog_index\"]= np.vectorize(fog_index)(df[\"AverageSentenceLenght\"],df[\"percentage_complex_word\"])\n",
    "df[\"average_words_per_sentence\"]=df[\"corps\"] . apply (average_words_per_sentence)\n",
    "df[\"complex_word_count\"] = df[\"corps\"] . apply (complex_word_count)\n",
    "\n",
    "df[\"syllable_count\"] = df[\"corps\"] . apply (syllable_count)\n",
    "\n",
    "df[\"personal_pronouns\"] = df[\"corps\"] . apply (count_personal_pronouns)\n",
    "\n",
    "df[\"average_word_length\"]= df[\"corps\"] . apply (average_word_length)\n",
    "\n",
    "df = df.drop(columns=['total_word_count'])\n",
    "\n",
    "# Calculate total_word_count after calculating complex_word_count\n",
    "total_word_counts = df[\"corps\"].apply(total_word_count)\n",
    "\n",
    "# Find the index of 'complex_word_count'\n",
    "complex_word_count_index = df.columns.get_loc('complex_word_count')\n",
    "\n",
    "# Insert 'total_word_count' after 'complex_word_count'\n",
    "# The insertion index is complex_word_count_index + 1\n",
    "df.insert(complex_word_count_index + 1, 'total_word_count', total_word_counts)\n",
    "\n",
    "\n",
    "\n",
    "\n",
    "if 'URL_ID' in input.columns:\n",
    "    df.insert(0, 'URL_ID', input['URL_ID'])\n",
    "\n",
    "\n",
    "# Drop the 'title' and 'corps' columns\n",
    "df = df.drop(columns=['title', 'corps',])\n",
    "df"
   ]
  },
  {
   "cell_type": "code",
   "execution_count": null,
   "metadata": {},
   "outputs": [],
   "source": []
  },
  {
   "cell_type": "code",
   "execution_count": 74,
   "metadata": {
    "executionInfo": {
     "elapsed": 151,
     "status": "ok",
     "timestamp": 1750316345939,
     "user": {
      "displayName": "Adesh Mishra",
      "userId": "17077495713070140326"
     },
     "user_tz": -330
    },
    "id": "nVJwUJjSb88G"
   },
   "outputs": [],
   "source": [
    " output_file_path = \"/content/drive/MyDrive/Assignment/output_analysis.xlsx\"\n",
    "\n",
    "# Save the DataFrame to an Excel file\n",
    "# index=False prevents pandas from writing the DataFrame index as a column in Excel\n",
    "df.to_excel(output_file_path, index=False)"
   ]
  },
  {
   "cell_type": "code",
   "execution_count": null,
   "metadata": {
    "id": "o6h4dFT---gS"
   },
   "outputs": [],
   "source": []
  }
 ],
 "metadata": {
  "colab": {
   "authorship_tag": "ABX9TyPMLtqkGlLL4Se3GXr1nYPm",
   "gpuType": "T4",
   "mount_file_id": "1Ab9-LLJYwYdUCq0i7qw4rvN8GAEpBZJS",
   "provenance": []
  },
  "kernelspec": {
   "display_name": "Python 3",
   "name": "python3"
  },
  "language_info": {
   "name": "python"
  }
 },
 "nbformat": 4,
 "nbformat_minor": 0
}
